{
  "nbformat": 4,
  "nbformat_minor": 0,
  "metadata": {
    "colab": {
      "name": "Random_Walks intro 10_01_21. (Monte Carlo) ipynb",
      "provenance": [],
      "collapsed_sections": [],
      "authorship_tag": "ABX9TyPji+H+KEPHl8zGb6rvEmFw",
      "include_colab_link": true
    },
    "kernelspec": {
      "name": "python3",
      "display_name": "Python 3"
    },
    "language_info": {
      "name": "python"
    }
  },
  "cells": [
    {
      "cell_type": "markdown",
      "metadata": {
        "id": "view-in-github",
        "colab_type": "text"
      },
      "source": [
        "<a href=\"https://colab.research.google.com/github/Merm-A-de/Monte_Carlo/blob/main/Random_Walks_intro_10_01_21_(Monte_Carlo)_ipynb.ipynb\" target=\"_parent\"><img src=\"https://colab.research.google.com/assets/colab-badge.svg\" alt=\"Open In Colab\"/></a>"
      ]
    },
    {
      "cell_type": "code",
      "metadata": {
        "colab": {
          "base_uri": "https://localhost:8080/"
        },
        "id": "IqG3dLe0lZ1J",
        "outputId": "ea9869ec-caa3-4910-fc69-69e133742b3d"
      },
      "source": [
        "#Angelo Mermigis - Python and Math Bum\n",
        "# 10/01/21\n",
        "\n",
        "# Ran hundreds of thousands of sims to see mean of 10 block sim (~3.5)\n",
        "\n",
        "\n",
        "import random\n",
        "\n",
        "def randomWalk_with_Barrier(n, bar): #n = blocks to walk\n",
        "  x = 0  # Each West subtracts 1 # Each East adds 1 \n",
        "  y = 0  # Each South subtracts 1 # Each North adds 1 \n",
        "  choices = 'North','East', 'South', \"West\"\n",
        "\n",
        "  list = []\n",
        "\n",
        "  for i in range(n):\n",
        "     list.append(random.choice(choices))\n",
        "  \n",
        "\n",
        "\n",
        "  for l in list:\n",
        "    if l == \"North\":\n",
        "      y += 1\n",
        "    if l == 'East':\n",
        "      x += 1\n",
        "    if l  == 'South':\n",
        "      y -= 1 \n",
        "    if l == 'West':\n",
        "      x -= 1\n",
        "\n",
        "  distance_From_Home = abs(x) + abs(y) \n",
        "  \n",
        "  barrier = bar\n",
        "\n",
        "  if distance_From_Home >= bar:\n",
        "    return (True)\n",
        "  elif distance_From_Home < bar:\n",
        "    return (False)\n",
        "\n",
        "  #return distance_From_Home\n",
        "\n",
        "  # Option for more details with headers\n",
        "\n",
        "  # print(list, [x, y], 'Distance from home: %r' %distance_From_Home, \"\\n\")\n",
        "  \n",
        "#being compared to some arbitrary bar (here I simmed the 10 random choices (mean for ~1b sims is 3.5))\n",
        "\n",
        "randomWalk_with_Barrier(10, 3.5)\n",
        "\n",
        " # Note #return doesn't work when calling a function if triple quotes after the call of the function \n"
      ],
      "execution_count": null,
      "outputs": [
        {
          "output_type": "execute_result",
          "data": {
            "text/plain": [
              "False"
            ]
          },
          "metadata": {},
          "execution_count": 7
        }
      ]
    },
    {
      "cell_type": "code",
      "metadata": {
        "colab": {
          "base_uri": "https://localhost:8080/"
        },
        "id": "b9rPs0JIFnZ5",
        "outputId": "59998aa3-30fe-4915-a5c8-8f8dc2ec8cea"
      },
      "source": [
        "#Angelo Mermigis - Python and Math Bum\n",
        "# 10/01/21\n",
        "\n",
        "# Ran hundreds of thousands of sims to see mean of 10 block sim (~3.5)\n",
        "\n",
        "#Same model with no bar\n",
        "\n",
        "import random\n",
        "\n",
        "def randomWalk(n): #n = blocks to walk\n",
        "  x = 0  # Each West subtracts 1 # Each East adds 1 \n",
        "  y = 0  # Each South subtracts 1 # Each North adds 1 \n",
        "  choices = 'North','East', 'South', \"West\"\n",
        "\n",
        "  list = []\n",
        "\n",
        "  for i in range(n):\n",
        "     list.append(random.choice(choices))\n",
        "  \n",
        "\n",
        "  for l in list:\n",
        "    if l == \"North\":\n",
        "      y += 1\n",
        "      \n",
        "    if l == 'East':\n",
        "      x += 1\n",
        "    if l  == 'South':\n",
        "      y -= 1 \n",
        "    if l == 'West':\n",
        "      x -= 1\n",
        "\n",
        "  distance_From_Home = abs(x) + abs(y) \n",
        "   \n",
        "  return distance_From_Home\n",
        "\n",
        "  #different distances from the original spot based on the new random turns you take (North + South = same as starting point)\n",
        "\n",
        "  # Option for more details with headers\n",
        "\n",
        "  # print(list, [x, y], 'Distance from home: %r' %distance_From_Home, \"\\n\")\n",
        "  \n",
        "randomWalk(10)\n",
        "\n",
        " # Note #return doesn't work when calling a function if triple quotes after the call of the function \n"
      ],
      "execution_count": null,
      "outputs": [
        {
          "output_type": "execute_result",
          "data": {
            "text/plain": [
              "2"
            ]
          },
          "metadata": {},
          "execution_count": 2
        }
      ]
    },
    {
      "cell_type": "code",
      "metadata": {
        "id": "aDocsC7PLm4t"
      },
      "source": [
        "def MC_randomWalk(x):\n",
        "  for i in range(x):\n",
        "    randomWalk(i) "
      ],
      "execution_count": null,
      "outputs": []
    },
    {
      "cell_type": "code",
      "metadata": {
        "colab": {
          "base_uri": "https://localhost:8080/"
        },
        "id": "0Eo3aZg_Dvs5",
        "outputId": "8ebb865a-60a4-4498-eaab-db4674d32df2"
      },
      "source": [
        "def randomWalk_Cross_Barrier(x):\n",
        "  list = []\n",
        "  farther_Than_Barrier = 0\n",
        "  closer_Than_Barrier = 0\n",
        "  for z in range(x):\n",
        "    list.append(randomWalk_with_Barrier(20, 5))\n",
        "  for l in list:\n",
        "    if l == True:\n",
        "      farther_Than_Barrier += 1\n",
        "    if l == False:\n",
        "      closer_Than_Barrier += 1\n",
        "  \n",
        "  return farther_Than_Barrier, closer_Than_Barrier  \n",
        "\n",
        "randomWalk_Cross_Barrier(10000)"
      ],
      "execution_count": null,
      "outputs": [
        {
          "output_type": "execute_result",
          "data": {
            "text/plain": [
              "(4474, 5526)"
            ]
          },
          "metadata": {},
          "execution_count": 535
        }
      ]
    },
    {
      "cell_type": "code",
      "metadata": {
        "colab": {
          "base_uri": "https://localhost:8080/"
        },
        "id": "xt6-N5cmjrsK",
        "outputId": "68cac6ca-4e15-4a58-fb02-dc1447be1d7e"
      },
      "source": [
        "import numpy as np\n",
        "\n",
        "#To get the median of 1000 result\n",
        "\n",
        "def randomWalk_Median_Gen_Tester(n):\n",
        "  list = []\n",
        "  for i in range(n):\n",
        "    list.append(randomWalk(10))\n",
        "    x = np.array(list)\n",
        "\n",
        "  distance_Median =  np.median(x)\n",
        "  return distance_Median\n",
        "\n",
        "randomWalk_Median_Gen_Tester(1000)\n",
        "\n"
      ],
      "execution_count": null,
      "outputs": [
        {
          "output_type": "execute_result",
          "data": {
            "text/plain": [
              "4.0"
            ]
          },
          "metadata": {},
          "execution_count": 18
        }
      ]
    },
    {
      "cell_type": "code",
      "metadata": {
        "colab": {
          "base_uri": "https://localhost:8080/"
        },
        "id": "lgPcrdgoxwde",
        "outputId": "29abc97f-ff4a-42e6-f748-da01d1cdd3fd"
      },
      "source": [
        "import numpy as np\n",
        "\n",
        "#To get the mean of 1000 Test results with steps (input in the initial model w/o bar) in the RandomWalk game ranging from 10-21\n",
        "# Ugly Monte Carlo Model \n",
        "  # Test a model with different inputs \n",
        "\n",
        "\n",
        "  #1000 tests by 12 inputs = 12000 tests \n",
        "\n",
        "\n",
        "def randomWalk_Mean_Gen_Tester(n):\n",
        "  list_for_Ten = []\n",
        "  list_for_Eleven = []\n",
        "  list_for_Twelve = []\n",
        "  list_for_Thirteen = []\n",
        "  list_for_Fourteen = []\n",
        "  list_for_Fifteen = []\n",
        "  list_for_Sixteen = []\n",
        "  list_for_Seventeen = []\n",
        "  list_for_Eighteen = []\n",
        "  list_for_Nineteen = []\n",
        "  list_for_Twenty = []\n",
        "  list_for_Twenty_One = []\n",
        "    \n",
        "  for i in range(n):\n",
        "    list_for_Ten.append(randomWalk(10))\n",
        "    x_Ten = np.array(list_for_Ten)\n",
        "\n",
        "  distance_Mean_Ten = np.mean(x_Ten)\n",
        "  \n",
        "  for i in range(n):\n",
        "    list_for_Eleven.append(randomWalk(11))\n",
        "    x_Eleven = np.array(list_for_Eleven)\n",
        "\n",
        "  distance_Mean_Eleven = np.mean(x_Eleven)\n",
        "\n",
        "  for i in range(n):\n",
        "    list_for_Twelve.append(randomWalk(12))\n",
        "    x_Twelve = np.array(list_for_Twelve)\n",
        "\n",
        "  distance_Mean_Twelve = np.mean(x_Twelve)\n",
        "\n",
        "  for i in range(n):\n",
        "    list_for_Thirteen.append(randomWalk(13))\n",
        "    x_Thirteen = np.array(list_for_Thirteen)\n",
        "\n",
        "  distance_Mean_Thirteen = np.mean(x_Thirteen)\n",
        "\n",
        "  for i in range(n):\n",
        "    list_for_Fourteen.append(randomWalk(14))\n",
        "    x_Fourteen = np.array(list_for_Fourteen)\n",
        "\n",
        "  distance_Mean_Fourteen = np.mean(x_Fourteen)\n",
        "  \n",
        "  for i in range(n):\n",
        "    list_for_Fifteen.append(randomWalk(15))\n",
        "    x_Fifteen = np.array(list_for_Fifteen)\n",
        "\n",
        "  distance_Mean_Fifteen = np.mean(x_Fifteen)\n",
        "\n",
        "  for i in range(n):\n",
        "    list_for_Sixteen.append(randomWalk(16))\n",
        "    x_Sixteen = np.array(list_for_Sixteen)\n",
        "\n",
        "  distance_Mean_Sixteen = np.mean(x_Sixteen)\n",
        "\n",
        "  for i in range(n):\n",
        "    list_for_Seventeen.append(randomWalk(17))\n",
        "    x_Seventeen = np.array(list_for_Seventeen)\n",
        "\n",
        "  distance_Mean_Seventeen = np.mean(x_Seventeen)  \n",
        "\n",
        "  for i in range(n):\n",
        "    list_for_Eighteen.append(randomWalk(18))\n",
        "    x_Eighteen = np.array(list_for_Eighteen)\n",
        "\n",
        "  distance_Mean_Eighteen = np.mean(x_Eighteen)\n",
        "  \n",
        "  for i in range(n):\n",
        "    list_for_Nineteen.append(randomWalk(19))\n",
        "    x_Nineteen = np.array(list_for_Nineteen)\n",
        "\n",
        "  distance_Mean_Nineteen = np.mean(x_Nineteen)\n",
        "\n",
        "  for i in range(n):\n",
        "    list_for_Twenty.append(randomWalk(20))\n",
        "    x_Twenty = np.array(list_for_Twenty)\n",
        "\n",
        "  distance_Mean_Twenty = np.mean(x_Twenty)\n",
        "\n",
        "  for i in range(n):\n",
        "    list_for_Twenty_One.append(randomWalk(21))\n",
        "    x_Twenty_One = np.array(list_for_Twenty_One)\n",
        "\n",
        "  distance_Mean_Twenty_One = np.mean(x_Twenty_One)  \n",
        "\n",
        "\n",
        "  return distance_Mean_Ten, distance_Mean_Eleven, distance_Mean_Twelve, distance_Mean_Thirteen, distance_Mean_Fourteen, distance_Mean_Fifteen, distance_Mean_Sixteen, distance_Mean_Seventeen, distance_Mean_Eighteen, distance_Mean_Nineteen, distance_Mean_Twenty, distance_Mean_Twenty_One \n",
        "\n",
        "randomWalk_Mean_Gen_Tester(10000)\n",
        "\n",
        "\n",
        "# no headers or titles on output so feed into another model\n",
        "\n",
        "# The means are changing every 1000 sims \n",
        "\n",
        "\n",
        "# values corresponding to the amount of random directions chosen in the RandomWalk Game (from 10 - 21)\n",
        "\n",
        "\n",
        "\n"
      ],
      "execution_count": null,
      "outputs": [
        {
          "output_type": "execute_result",
          "data": {
            "text/plain": [
              "(3.5598,\n",
              " 3.7244,\n",
              " 3.8826,\n",
              " 3.9926,\n",
              " 4.1824,\n",
              " 4.355,\n",
              " 4.4766,\n",
              " 4.6184,\n",
              " 4.7854,\n",
              " 4.923,\n",
              " 5.0078,\n",
              " 5.1366)"
            ]
          },
          "metadata": {},
          "execution_count": 7
        }
      ]
    },
    {
      "cell_type": "code",
      "metadata": {
        "colab": {
          "base_uri": "https://localhost:8080/"
        },
        "id": "V1dySYct8I1t",
        "outputId": "23be9646-6d9c-46a7-8c6a-1ec0dc60132c"
      },
      "source": [
        "def mean_Checker():\n",
        "  list = []\n",
        "  for x in randomWalk_Mean_Gen_Tester((100)):\n",
        "    list.append(x)\n",
        "\n",
        "  mean_dif_Ten_Eleven = list[0] - list[1]\n",
        "  mean_dif_Eleven_Twelve = list[1] - list[2]\n",
        "  mean_dif_Twelve_Thirteen = list[2] - list[3]\n",
        "  mean_dif_Thirteen_Fourteen = list[3] - list[4]\n",
        "  mean_dif_Fourteen_Fifteen = list[4] - list[5]\n",
        "  mean_dif_Fifteen_Sixteen = list[5] - list[6]\n",
        "  mean_dif_Sixteen_Seventeen = list[6] - list[7]\n",
        "  mean_dif_Seventeen_Eighteen = list[7] - list[8]\n",
        "  mean_dif_Eighteen_Nineteen = list[8] - list[9]\n",
        "  mean_dif_Nineteen_Twenty = list[9] - list[10]\n",
        "  mean_dif_Twenty_Twenty_One = list[10] - list[11]\n",
        "\n",
        "\n",
        "\n",
        "\n",
        "  return mean_dif_Ten_Eleven, mean_dif_Eleven_Twelve, mean_dif_Twelve_Thirteen, mean_dif_Thirteen_Fourteen, mean_dif_Fourteen_Fifteen, mean_dif_Fifteen_Sixteen, mean_dif_Sixteen_Seventeen, mean_dif_Seventeen_Eighteen, mean_dif_Eighteen_Nineteen, mean_dif_Nineteen_Twenty, mean_dif_Twenty_Twenty_One\n",
        "\n",
        "\n",
        "mean_Checker()\n",
        "\n",
        "# whats the difference between mean with addition of each step \n",
        "\n",
        "# will feed the results of this into another model which normalizes returns over 1 - 10 millions sims (idea of how mean should change)\n",
        "\n",
        "# Mite be somewhat dry game (but using same tricks on Market returns, etc. )"
      ],
      "execution_count": null,
      "outputs": [
        {
          "output_type": "execute_result",
          "data": {
            "text/plain": [
              "(-0.2400000000000002,\n",
              " -0.10000000000000009,\n",
              " -0.1599999999999997,\n",
              " -0.6000000000000005,\n",
              " 0.040000000000000036,\n",
              " -0.1999999999999993,\n",
              " -0.6400000000000006,\n",
              " 0.5800000000000001,\n",
              " -0.1200000000000001,\n",
              " -0.41999999999999993,\n",
              " -0.6799999999999997)"
            ]
          },
          "metadata": {},
          "execution_count": 6
        }
      ]
    },
    {
      "cell_type": "code",
      "metadata": {
        "colab": {
          "base_uri": "https://localhost:8080/"
        },
        "id": "9lGS_GEMxxSQ",
        "outputId": "6b9be841-1455-4b0e-d7bb-770c0414a781"
      },
      "source": [
        "\n",
        "import numpy as np\n",
        "\n",
        "\n",
        "\n",
        "def randomWalk_Max_Gen_Tester(n):\n",
        "  list = []\n",
        "  for i in range(n):\n",
        "    list.append(randomWalk(10))\n",
        "    x = np.array(list)\n",
        "\n",
        "  distance_Max = np.max(x)\n",
        "  return distance_Max\n",
        "\n",
        "randomWalk_Max_Gen_Tester(1000)\n"
      ],
      "execution_count": null,
      "outputs": [
        {
          "output_type": "execute_result",
          "data": {
            "text/plain": [
              "10"
            ]
          },
          "metadata": {},
          "execution_count": 377
        }
      ]
    },
    {
      "cell_type": "code",
      "metadata": {
        "colab": {
          "base_uri": "https://localhost:8080/"
        },
        "id": "0iazK0QWxHkj",
        "outputId": "f5283034-ab61-4538-dd30-dd68f04a0110"
      },
      "source": [
        "def randomWalk_Mean_Many_Tester(n):\n",
        "  list = []\n",
        "  for i in range(n):\n",
        "    list.append(randomWalk_Mean_Gen_Tester(100))\n",
        "  ele = np.array(list)\n",
        "  #for z in ele:\n",
        "\n",
        "# wrong cause changed the model that feeds in here \n",
        "# will change back but \n",
        "\n",
        "# this framework for analytics \n",
        "\n",
        "\n",
        "  mean_Of_Means = np.mean(ele)\n",
        "\n",
        "  return mean_Of_Means\n",
        "\n",
        "\n",
        "randomWalk_Mean_Many_Tester(100)"
      ],
      "execution_count": null,
      "outputs": [
        {
          "output_type": "execute_result",
          "data": {
            "text/plain": [
              "4.375083333333333"
            ]
          },
          "metadata": {},
          "execution_count": 31
        }
      ]
    },
    {
      "cell_type": "code",
      "metadata": {
        "id": "HJogiefol54F"
      },
      "source": [
        "#    return random.shuffle() # How does random.shuffle work\n",
        "\n",
        "# how does yield work"
      ],
      "execution_count": null,
      "outputs": []
    },
    {
      "cell_type": "code",
      "metadata": {
        "colab": {
          "base_uri": "https://localhost:8080/"
        },
        "id": "5jwYpfIEl2wG",
        "outputId": "42fe677a-33c0-4736-c283-7863c421e279"
      },
      "source": [
        "#Angelo Mermigis - Python and Math Bum\n",
        "# 10/01/21\n",
        "\n",
        "# Option with Random number conversion to Direction \n",
        "  # Each Direction takes 1/4 of 1 (or random.range (1,2,3,4 | one choice per number))\n",
        "\n",
        "\n",
        "import random\n",
        "\n",
        "def randomWalk(n): #n = blocks to walk\n",
        "  x = 0  # Each West subtracts 1 # Each East adds 1 \n",
        "  y = 0  # Each South subtracts 1 # Each North adds 1 \n",
        "  choices = 'North','East', 'South', \"West\"\n",
        "\n",
        "  list_Num = []\n",
        "  list_Directions = []\n",
        "\n",
        "  for i in range(n):\n",
        "    list_Num.append(round(random.randrange(0,4)))\n",
        "  for l in list_Num:\n",
        "    if l == 0:\n",
        "      y += 1\n",
        "    if l == 1:\n",
        "      x += 1\n",
        "    if l  == 2:\n",
        "      y -= 1 \n",
        "    if l == 3:\n",
        "      x -= 1\n",
        "\n",
        "  \n",
        "  distance_From_Home = abs(x) + abs(y) \n",
        "  # Option for Random \n",
        "\n",
        "  # print(list, [x, y], 'Distance from home: %r' %distance_From_Home, \"\\n\")\n",
        "  \n",
        "  #\n",
        "\n",
        "#randomWalk(5)\n",
        "\n",
        "\n",
        "\n",
        "\n",
        "def randomWalk_Tester(n):\n",
        "  list = []\n",
        "  for i in range(n):\n",
        "    list.append(randomWalk(5))\n",
        "  print(list)\n",
        "  \n",
        "\n",
        "\n",
        "\n",
        "\n",
        "\n",
        "\n",
        "randomWalk_Tester(3)\n"
      ],
      "execution_count": null,
      "outputs": [
        {
          "output_type": "stream",
          "name": "stdout",
          "text": [
            "[None, None, None]\n"
          ]
        }
      ]
    },
    {
      "cell_type": "code",
      "metadata": {
        "colab": {
          "base_uri": "https://localhost:8080/"
        },
        "id": "8HsCFu-T1hGQ",
        "outputId": "667c2131-28c6-4d84-e9fd-a0c63216c8f2"
      },
      "source": [
        ""
      ],
      "execution_count": null,
      "outputs": [
        {
          "output_type": "stream",
          "name": "stdout",
          "text": [
            "0\n",
            "4\n",
            "0\n",
            "4\n",
            "0\n",
            "4\n",
            "0\n",
            "4\n",
            "0\n",
            "4\n"
          ]
        }
      ]
    },
    {
      "cell_type": "code",
      "metadata": {
        "colab": {
          "base_uri": "https://localhost:8080/"
        },
        "id": "-qwOv5bw1hQ4",
        "outputId": "bf404e35-d03d-4f07-be37-3f1be803a004"
      },
      "source": [
        "# Angelo Mermigis\n",
        "# Random Ranger Tester - 4 directions outlier of 8% +- of expected return (1/4 )\n",
        "\n",
        "import random\n",
        "\n",
        "def random_Rand_Range_Tester(x):\n",
        "  list = []\n",
        "  Zeros = 0\n",
        "  Ones = 0\n",
        "  Twos = 0\n",
        "  Threes = 0\n",
        "\n",
        "\n",
        "  greater_than_027 = 0\n",
        "  less_than_023 = 0\n",
        "  outlier_Skew = greater_than_027 - less_than_023\n",
        "\n",
        "  for i in range(x):\n",
        "    list.append(random.randrange(0,4))\n",
        "  for l in list:\n",
        "    if l == 0:\n",
        "      Zeros += 1\n",
        "    if l == 1:\n",
        "      Ones += 1\n",
        "    if l == 2:\n",
        "      Twos += 1\n",
        "    if l == 3:\n",
        "      Threes += 1\n",
        " \n",
        "  \n",
        "  if Zeros > 2700:\n",
        "    greater_than_027 += 1\n",
        "  if Ones > 2700:\n",
        "    greater_than_027 += 1\n",
        "  if Twos > 2700:\n",
        "    greater_than_027 += 1\n",
        "  if Threes > 2700:\n",
        "    greater_than_027 += 1\n",
        "\n",
        "\n",
        "\n",
        "  if Zeros < 2300:\n",
        "    less_than_023 += 1\n",
        "  if Ones < 2300:\n",
        "    less_than_023 += 1\n",
        "  if Twos < 2300:\n",
        "    less_than_023 += 1\n",
        "  if Threes < 2300:\n",
        "    less_than_023 += 1\n",
        "\n",
        "\n",
        "\n",
        "\n",
        "  return greater_than_027, less_than_023\n",
        "\n",
        "\n",
        "#  print(Zeros, Ones, Twos, Threes)\n",
        "\n",
        "  \n",
        "\n",
        "random_Rand_Range_Tester(10000)"
      ],
      "execution_count": null,
      "outputs": [
        {
          "output_type": "execute_result",
          "data": {
            "text/plain": [
              "(0, 0)"
            ]
          },
          "metadata": {},
          "execution_count": 71
        }
      ]
    },
    {
      "cell_type": "code",
      "metadata": {
        "id": "foeno8PLCxPg",
        "colab": {
          "base_uri": "https://localhost:8080/",
          "height": 356
        },
        "outputId": "aec8696f-3196-4fa2-a7c2-ff0b3cb7e4d3"
      },
      "source": [
        "def bulk_Rand_Range_Tester(x):\n",
        "  list = []\n",
        "  less_than_23 = 0\n",
        "  greater_than_27 = 0\n",
        "  for i in range(x):\n",
        "    #list.append(\n",
        "    (random_Rand_Range_Tester(15))\n",
        "  #print(list)\n",
        " # for s in list:\n",
        "  \n",
        "\n",
        "    \n",
        "    \n",
        "  #  if s < 2300:\n",
        "   #   less_than_23 += 1 \n",
        "   # if s > 2700:\n",
        "    #  greater_than_27 += 1\n",
        "\n",
        "\n",
        " # print(\"Greater than 27: \", greater_than_27)\n",
        " # print('Less than 23: ', less_than_23)\n",
        "\n",
        "\n",
        "\n",
        "bulk_Rand_Range_Tester(5)\n",
        "\n",
        "\n"
      ],
      "execution_count": null,
      "outputs": [
        {
          "output_type": "error",
          "ename": "NameError",
          "evalue": "ignored",
          "traceback": [
            "\u001b[0;31m---------------------------------------------------------------------------\u001b[0m",
            "\u001b[0;31mNameError\u001b[0m                                 Traceback (most recent call last)",
            "\u001b[0;32m<ipython-input-3-f59b3589a6ec>\u001b[0m in \u001b[0;36m<module>\u001b[0;34m()\u001b[0m\n\u001b[1;32m     23\u001b[0m \u001b[0;34m\u001b[0m\u001b[0m\n\u001b[1;32m     24\u001b[0m \u001b[0;34m\u001b[0m\u001b[0m\n\u001b[0;32m---> 25\u001b[0;31m \u001b[0mbulk_Rand_Range_Tester\u001b[0m\u001b[0;34m(\u001b[0m\u001b[0;36m5\u001b[0m\u001b[0;34m)\u001b[0m\u001b[0;34m\u001b[0m\u001b[0;34m\u001b[0m\u001b[0m\n\u001b[0m\u001b[1;32m     26\u001b[0m \u001b[0;34m\u001b[0m\u001b[0m\n\u001b[1;32m     27\u001b[0m \u001b[0;34m\u001b[0m\u001b[0m\n",
            "\u001b[0;32m<ipython-input-3-f59b3589a6ec>\u001b[0m in \u001b[0;36mbulk_Rand_Range_Tester\u001b[0;34m(x)\u001b[0m\n\u001b[1;32m      5\u001b[0m   \u001b[0;32mfor\u001b[0m \u001b[0mi\u001b[0m \u001b[0;32min\u001b[0m \u001b[0mrange\u001b[0m\u001b[0;34m(\u001b[0m\u001b[0mx\u001b[0m\u001b[0;34m)\u001b[0m\u001b[0;34m:\u001b[0m\u001b[0;34m\u001b[0m\u001b[0;34m\u001b[0m\u001b[0m\n\u001b[1;32m      6\u001b[0m     \u001b[0;31m#list.append(\u001b[0m\u001b[0;34m\u001b[0m\u001b[0;34m\u001b[0m\u001b[0;34m\u001b[0m\u001b[0m\n\u001b[0;32m----> 7\u001b[0;31m     \u001b[0;34m(\u001b[0m\u001b[0mrandom_Rand_Range_Tester\u001b[0m\u001b[0;34m(\u001b[0m\u001b[0;36m15\u001b[0m\u001b[0;34m)\u001b[0m\u001b[0;34m)\u001b[0m\u001b[0;34m\u001b[0m\u001b[0;34m\u001b[0m\u001b[0m\n\u001b[0m\u001b[1;32m      8\u001b[0m   \u001b[0;31m#print(list)\u001b[0m\u001b[0;34m\u001b[0m\u001b[0;34m\u001b[0m\u001b[0;34m\u001b[0m\u001b[0m\n\u001b[1;32m      9\u001b[0m  \u001b[0;31m# for s in list:\u001b[0m\u001b[0;34m\u001b[0m\u001b[0;34m\u001b[0m\u001b[0;34m\u001b[0m\u001b[0m\n",
            "\u001b[0;31mNameError\u001b[0m: name 'random_Rand_Range_Tester' is not defined"
          ]
        }
      ]
    },
    {
      "cell_type": "code",
      "metadata": {
        "id": "s2jx1ntqh_GB"
      },
      "source": [
        ""
      ],
      "execution_count": null,
      "outputs": []
    },
    {
      "cell_type": "code",
      "metadata": {
        "id": "Zr7yXVTkfCcf"
      },
      "source": [
        ""
      ],
      "execution_count": null,
      "outputs": []
    },
    {
      "cell_type": "code",
      "metadata": {
        "id": "-w3uTZny5vuS"
      },
      "source": [
        ""
      ],
      "execution_count": null,
      "outputs": []
    },
    {
      "cell_type": "code",
      "metadata": {
        "id": "8YUSAleJ1hTq"
      },
      "source": [
        ""
      ],
      "execution_count": null,
      "outputs": []
    },
    {
      "cell_type": "code",
      "metadata": {
        "id": "sNcgNjKQIvzB"
      },
      "source": [
        ""
      ],
      "execution_count": null,
      "outputs": []
    }
  ]
}