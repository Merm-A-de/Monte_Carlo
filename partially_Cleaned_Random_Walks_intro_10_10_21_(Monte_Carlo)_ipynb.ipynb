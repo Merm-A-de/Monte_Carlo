{
  "nbformat": 4,
  "nbformat_minor": 0,
  "metadata": {
    "colab": {
      "name": "partially_Cleaned_Random_Walks intro 10_10_21. (Monte Carlo) ipynb",
      "provenance": [],
      "collapsed_sections": [],
      "authorship_tag": "ABX9TyPWd8Qiqhw40dBrg+Ls6Tj6",
      "include_colab_link": true
    },
    "kernelspec": {
      "name": "python3",
      "display_name": "Python 3"
    },
    "language_info": {
      "name": "python"
    }
  },
  "cells": [
    {
      "cell_type": "markdown",
      "metadata": {
        "id": "view-in-github",
        "colab_type": "text"
      },
      "source": [
        "<a href=\"https://colab.research.google.com/github/Merm-A-de/Monte_Carlo/blob/main/partially_Cleaned_Random_Walks_intro_10_10_21_(Monte_Carlo)_ipynb.ipynb\" target=\"_parent\"><img src=\"https://colab.research.google.com/assets/colab-badge.svg\" alt=\"Open In Colab\"/></a>"
      ]
    },
    {
      "cell_type": "code",
      "metadata": {
        "colab": {
          "base_uri": "https://localhost:8080/"
        },
        "id": "IqG3dLe0lZ1J",
        "outputId": "f90086a4-0d8a-4c78-a53f-23e2411ae98f"
      },
      "source": [
        "#Angelo Mermigis - Python and Math Bum\n",
        "# 10/01/21\n",
        "\n",
        "# Cleanup 1 : 10/10/21\n",
        "  # Added Docstring Notes\n",
        "  # Changed to User Input Format\n",
        "\n",
        "\n",
        "import random\n",
        "\n",
        "def randomWalk_with_Barrier_UX(): #n = blocks to walk\n",
        "\n",
        "\n",
        "  \"\"\"\n",
        "\n",
        "    Inputs:    \n",
        "      Options for input in model (mass simulation) \n",
        "      &\n",
        "      User innput (User Experience) <<---\n",
        "\n",
        "    n = int\n",
        "      random selections (total blocks to walk)\n",
        "\n",
        "    bar = int\n",
        "      test distance from home after n random selections\n",
        "\n",
        "\n",
        "    Output:\n",
        "\n",
        "    Boolean\n",
        "      True - when distance from home is greater than bar\n",
        "\n",
        "      False - when distance from home is less than bar\n",
        "\n",
        "\n",
        "    **  Rules of the Game  **\n",
        "\n",
        "\n",
        "    Calculation for distance from home:\n",
        "      Each time the walker randomly selects a direction to walk\n",
        "      the distance from their previous position increases by 1\n",
        "\n",
        "      If the walker selects North on the first move, they're one position from \n",
        "      home\n",
        "\n",
        "      If the walker then selects South on the second move, they're one position\n",
        "      from their previous place, while at the same spot as Home\n",
        "\n",
        "      Equal choices of (North & South) offset when computing distance from home\n",
        "        Same for (East & West)\n",
        "\n",
        "    ** Execution **\n",
        "\n",
        "    The 'Home' position is 0,0 on a 2D graph\n",
        "    \n",
        "    For the total of n, a corresponding amount of random selections from the \n",
        "     directions variable will be added to a blank list\n",
        "\n",
        "    For each case of North in the list of randomly selected directions, the \n",
        "      Y value is incremented once | (increased by one)\n",
        "\n",
        "    For each case of South in the list of randomly selected directions, the \n",
        "      Y value is decremented once | (subtracted by one)\n",
        "\n",
        "    For each case of East in the list of randomly selected directions, the \n",
        "      X value is incremented once | (increased by one)\n",
        "\n",
        "    For each case of West in the list of randomly selected directions, the \n",
        "      X value is decremented once | (subtracted by one)\n",
        "\n",
        "    When all the randomly selected directions in the list have been compared, \n",
        "      the total distance from home can be computed\n",
        "\n",
        "    To avoid negative X/Y offsetting positive Y/X values\n",
        "      (Example: Walker went Net 4 blocks West (X = -4), and Net 1 block North\n",
        "        (Y = 1) should be total of 5 blocks away from home rather than -4 + 1 = \n",
        "          -3 [3] )\n",
        "\n",
        "    To assure accurate distance records, the computation of Distance from Home\n",
        "      is the addition of the absolute values of X and Y\n",
        "        (Same Example: Walker went Net 4 blocks West (X = -4),\n",
        "          and Net 1 block North (Y = 1) ;  |-4| + |1| = 5 (Correct Distance)\n",
        "\n",
        "    If the total Distance from Home is greater than the specified bar,\n",
        "      Output will be True\n",
        "    \n",
        "    If the total Distance from Home is less than the specified bar,\n",
        "      Output will be False\n",
        "\n",
        "    Analysis Specifics:\n",
        "      Ran millions of sims to see mean of 10 random walk sim (~3.5)\n",
        "  \n",
        "  \n",
        "  \"\"\"\n",
        "\n",
        "  n = int(input(\"How many random walks?:    \\n\"))\n",
        "  bar = float(input(\"\\nOver / Under for distance from Home?:    \\n\"))\n",
        "\n",
        "\n",
        "  x = 0  # Each West subtracts 1 # Each East adds 1 \n",
        "  y = 0  # Each South subtracts 1 # Each North adds 1 \n",
        "  choices = 'North','East', 'South', \"West\"\n",
        "\n",
        "  list = []\n",
        "\n",
        "  for i in range(n):\n",
        "     list.append(random.choice(choices))\n",
        "  \n",
        "\n",
        "\n",
        "  for l in list:\n",
        "    if l == \"North\":\n",
        "      y += 1\n",
        "    if l == 'East':\n",
        "      x += 1\n",
        "    if l  == 'South':\n",
        "      y -= 1 \n",
        "    if l == 'West':\n",
        "      x -= 1\n",
        "\n",
        "  distance_From_Home = abs(x) + abs(y) \n",
        "\n",
        "\n",
        "\n",
        "  if distance_From_Home:\n",
        "    print(\"\\nDistance from Home greater than bar?: \\n\")\n",
        "    if distance_From_Home >= bar:\n",
        "      return (True)\n",
        "    elif distance_From_Home < bar:\n",
        "     return (False)\n",
        " \n",
        "randomWalk_with_Barrier_UX()\n",
        "\n"
      ],
      "execution_count": 22,
      "outputs": [
        {
          "output_type": "stream",
          "name": "stdout",
          "text": [
            "How many random walks?:    \n",
            "10\n",
            "\n",
            "Over / Under for distance from Home?:    \n",
            "3.5\n",
            "\n",
            "Distance from Home greater than bar?: \n",
            "\n"
          ]
        },
        {
          "output_type": "execute_result",
          "data": {
            "text/plain": [
              "True"
            ]
          },
          "metadata": {},
          "execution_count": 22
        }
      ]
    },
    {
      "cell_type": "code",
      "metadata": {
        "id": "tfYuHT9hSBdv"
      },
      "source": [
        ""
      ],
      "execution_count": null,
      "outputs": []
    },
    {
      "cell_type": "code",
      "metadata": {
        "colab": {
          "base_uri": "https://localhost:8080/"
        },
        "id": "9XTlKe6ZR2Ni",
        "outputId": "c949683e-5d2b-4783-ef94-b055a9c73ca0"
      },
      "source": [
        "#Angelo Mermigis - Python and Math Bum\n",
        "# 10/01/21\n",
        "\n",
        "# Cleanup 1 : 10/10/21\n",
        "  # Added Docstring Notes\n",
        "  # Changed to User Input Format\n",
        "\n",
        "\n",
        "import random\n",
        "\n",
        "def randomWalk_with_Barrier_For_Sims(n, bar):\n",
        "\n",
        "\n",
        "  \"\"\"\n",
        "\n",
        "    Inputs:    \n",
        "      Options for input in model (mass simulation) <<----\n",
        "      &\n",
        "      User innput (User Experience)\n",
        "\n",
        "    n = int\n",
        "      random selections (total blocks to walk)\n",
        "\n",
        "    bar = int\n",
        "      test distance from home after n random selections\n",
        "\n",
        "\n",
        "    Output:\n",
        "\n",
        "    Boolean\n",
        "      True - when distance from home is greater than bar\n",
        "\n",
        "      False - when distance from home is less than bar\n",
        "\n",
        "\n",
        "    **  Rules of the Game  **\n",
        "\n",
        "\n",
        "    Calculation for distance from home:\n",
        "      Each time the walker randomly selects a direction to walk\n",
        "      the distance from their previous position increases by 1\n",
        "\n",
        "      If the walker selects North on the first move, they're one position from \n",
        "      home\n",
        "\n",
        "      If the walker then selects South on the second move, they're one position\n",
        "      from their previous place, while at the same spot as Home\n",
        "\n",
        "      Equal choices of (North & South) offset when computing distance from home\n",
        "        Same for (East & West)\n",
        "\n",
        "    ** Execution **\n",
        "\n",
        "    The 'Home' position is 0,0 on a 2D graph\n",
        "    \n",
        "    For the total of n, a corresponding amount of random selections from the \n",
        "     directions variable will be added to a blank list\n",
        "\n",
        "    For each case of North in the list of randomly selected directions, the \n",
        "      Y value is incremented once | (increased by one)\n",
        "\n",
        "    For each case of South in the list of randomly selected directions, the \n",
        "      Y value is decremented once | (subtracted by one)\n",
        "\n",
        "    For each case of East in the list of randomly selected directions, the \n",
        "      X value is incremented once | (increased by one)\n",
        "\n",
        "    For each case of West in the list of randomly selected directions, the \n",
        "      X value is decremented once | (subtracted by one)\n",
        "\n",
        "    When all the randomly selected directions in the list have been compared, \n",
        "      the total distance from home can be computed\n",
        "\n",
        "    To avoid negative X/Y offsetting positive Y/X values\n",
        "      (Example: Walker went Net 4 blocks West (X = -4), and Net 1 block North\n",
        "        (Y = 1) should be total of 5 blocks away from home rather than -4 + 1 = \n",
        "          -3 [3] )\n",
        "\n",
        "    To assure accurate distance records, the computation of Distance from Home\n",
        "      is the addition of the absolute values of X and Y\n",
        "        (Same Example: Walker went Net 4 blocks West (X = -4),\n",
        "          and Net 1 block North (Y = 1) ;  |-4| + |1| = 5 (Correct Distance)\n",
        "\n",
        "    If the total Distance from Home is greater than the specified bar,\n",
        "      Output will be True\n",
        "    \n",
        "    If the total Distance from Home is less than the specified bar,\n",
        "      Output will be False\n",
        "\n",
        "    Analysis Specifics:\n",
        "      Ran millions of sims to see mean of 10 random walk sim (~3.5)\n",
        "  \n",
        "  \n",
        "  \"\"\"\n",
        "\n",
        "\n",
        "  x = 0  # Each West subtracts 1 # Each East adds 1 \n",
        "  y = 0  # Each South subtracts 1 # Each North adds 1 \n",
        "  choices = 'North','East', 'South', \"West\"\n",
        "\n",
        "  list = []\n",
        "\n",
        "  for i in range(n):\n",
        "     list.append(random.choice(choices))\n",
        "  \n",
        "\n",
        "\n",
        "  for l in list:\n",
        "    if l == \"North\":\n",
        "      y += 1\n",
        "    if l == 'East':\n",
        "      x += 1\n",
        "    if l  == 'South':\n",
        "      y -= 1 \n",
        "    if l == 'West':\n",
        "      x -= 1\n",
        "\n",
        "  distance_From_Home = abs(x) + abs(y) \n",
        "\n",
        "\n",
        "  if distance_From_Home >= bar:\n",
        "    return (True)\n",
        "  elif distance_From_Home < bar:\n",
        "    return (False)\n",
        " \n",
        "randomWalk_with_Barrier_For_Sims(10, 3.5)\n",
        "\n"
      ],
      "execution_count": 30,
      "outputs": [
        {
          "output_type": "execute_result",
          "data": {
            "text/plain": [
              "False"
            ]
          },
          "metadata": {},
          "execution_count": 30
        }
      ]
    },
    {
      "cell_type": "code",
      "metadata": {
        "id": "n3HbwDgqHs68"
      },
      "source": [
        "#Notes\n",
        "\n",
        "# Return doesn't output when calling a function if\n",
        "# triple quotes after the call of the function \n",
        "\n",
        "# Option for more details with headers\n",
        "\n"
      ],
      "execution_count": null,
      "outputs": []
    },
    {
      "cell_type": "code",
      "metadata": {
        "colab": {
          "base_uri": "https://localhost:8080/"
        },
        "id": "b9rPs0JIFnZ5",
        "outputId": "55dc9ad7-0fe5-44ae-9698-2c433c9ede0c"
      },
      "source": [
        "#Angelo Mermigis - Python and Math Bum\n",
        "# 10/01/21\n",
        "\n",
        "# Ran hundreds of thousands of sims to see mean of 10 block sim (~3.5)\n",
        "\n",
        "#Same model with no bar\n",
        "\n",
        "import random\n",
        "\n",
        "def randomWalk_For_Sims(n): #n = blocks to walk\n",
        "\n",
        "  \"\"\"\n",
        "    Inputs:    \n",
        "      Options for input in model (mass simulation) \n",
        "      &\n",
        "      User innput (User Experience)\n",
        "\n",
        "    n = int\n",
        "      random selections (total blocks to walk)\n",
        "\n",
        "    Output:\n",
        "\n",
        "      Integer \n",
        "        Distance from Home \n",
        "\n",
        "\n",
        "    **  Rules of the Game  **\n",
        "\n",
        "\n",
        "    Calculation for distance from home:\n",
        "    \n",
        "      Each time the walker randomly selects a direction to walk\n",
        "      the distance from their previous position increases by 1\n",
        "\n",
        "      If the walker selects North on the first move, they're one position from \n",
        "      home\n",
        "\n",
        "      If the walker then selects South on the second move, they're one position\n",
        "      from their previous place, while at the same spot as Home\n",
        "\n",
        "      Equal choices of (North & South) offset when computing distance from home\n",
        "        Same for (East & West)\n",
        "\n",
        "    ** Execution **\n",
        "\n",
        "      The 'Home' position is 0,0 on a 2D graph\n",
        "    \n",
        "      For the total of n, a corresponding amount of random selections from the \n",
        "       directions variable will be added to a blank list\n",
        "\n",
        "      For each case of North in the list of randomly selected directions, the \n",
        "        Y value is incremented once | (increased by one)\n",
        "\n",
        "      For each case of South in the list of randomly selected directions, the \n",
        "        Y value is decremented once | (subtracted by one)\n",
        "\n",
        "      For each case of East in the list of randomly selected directions, the \n",
        "        X value is incremented once | (increased by one)\n",
        "\n",
        "      For each case of West in the list of randomly selected directions, the \n",
        "        X value is decremented once | (subtracted by one)\n",
        "\n",
        "      When all the randomly selected directions in the list have been compared, \n",
        "        the total distance from home can be computed\n",
        "\n",
        "      To avoid negative X/Y offsetting positive Y/X values\n",
        "        (Example: Walker went Net 4 blocks West (X = -4), and Net 1 block North\n",
        "          (Y = 1) should be total of 5 blocks away from home rather than \n",
        "            -4 + 1 = -3 ; 3 DFH )\n",
        "\n",
        "      To assure accurate distance records, the computation of Distance from Home\n",
        "        is the addition of the absolute values of X and Y\n",
        "          (Same Example: Walker went Net 4 blocks West (X = -4),\n",
        "            and Net 1 block North (Y = 1) ;  |-4| + |1| = 5 (Correct Distance)\n",
        "\n",
        "      The model outputs the computation for Distance From Home\n",
        "\n",
        "     \n",
        "  Analysis Specifics:\n",
        "    Ran millions of sims to see mean of 10 random walk sim (~3.5)\n",
        "  \n",
        "  \n",
        "  \"\"\"\n",
        "\n",
        "\n",
        "  x = 0  # Each West subtracts 1 # Each East adds 1 \n",
        "  y = 0  # Each South subtracts 1 # Each North adds 1 \n",
        "  choices = 'North','East', 'South', \"West\"\n",
        "\n",
        "  list = []\n",
        "\n",
        "  for i in range(n):\n",
        "     list.append(random.choice(choices))\n",
        "  \n",
        "\n",
        "  for l in list:\n",
        "    if l == \"North\":\n",
        "      y += 1\n",
        "      \n",
        "    if l == 'East':\n",
        "      x += 1\n",
        "    if l  == 'South':\n",
        "      y -= 1 \n",
        "    if l == 'West':\n",
        "      x -= 1\n",
        "\n",
        "  distance_From_Home = abs(x) + abs(y) \n",
        "   \n",
        "  return distance_From_Home\n",
        "\n",
        "  \n",
        "randomWalk_For_Sims(10)\n",
        "\n"
      ],
      "execution_count": 45,
      "outputs": [
        {
          "output_type": "execute_result",
          "data": {
            "text/plain": [
              "4"
            ]
          },
          "metadata": {},
          "execution_count": 45
        }
      ]
    },
    {
      "cell_type": "code",
      "metadata": {
        "id": "aDocsC7PLm4t"
      },
      "source": [
        "def MC_randomWalk(x):\n",
        "  for i in range(x):\n",
        "    randomWalk(i) "
      ],
      "execution_count": null,
      "outputs": []
    },
    {
      "cell_type": "code",
      "metadata": {
        "colab": {
          "base_uri": "https://localhost:8080/"
        },
        "id": "0Eo3aZg_Dvs5",
        "outputId": "aff755a8-28ff-4fc8-ec90-810a41dc3945"
      },
      "source": [
        "def randomWalk_Cross_Barrier(x):\n",
        "  \"\"\"\n",
        "    Tests proportion of DFH over bar to DFH under bar\n",
        "      Past the specified line \n",
        "      of \n",
        "      Closer than specified line\n",
        "\n",
        "    Can help gauge distribution of results, and whether the bar has been \n",
        "      proerly set (margin for arbitrage???)\n",
        "  \"\"\"\n",
        "\n",
        "\n",
        "  list = []\n",
        "  farther_Than_Barrier = 0\n",
        "  closer_Than_Barrier = 0\n",
        "  for z in range(x):\n",
        "    list.append(randomWalk_with_Barrier_For_Sims(20, 5))\n",
        "  for l in list:\n",
        "    if l == True:\n",
        "      farther_Than_Barrier += 1\n",
        "    if l == False:\n",
        "      closer_Than_Barrier += 1\n",
        "  \n",
        "  return farther_Than_Barrier, closer_Than_Barrier  \n",
        "\n",
        "randomWalk_Cross_Barrier(1000000)"
      ],
      "execution_count": 39,
      "outputs": [
        {
          "output_type": "execute_result",
          "data": {
            "text/plain": [
              "(456703, 543297)"
            ]
          },
          "metadata": {},
          "execution_count": 39
        }
      ]
    },
    {
      "cell_type": "code",
      "metadata": {
        "colab": {
          "base_uri": "https://localhost:8080/"
        },
        "id": "xt6-N5cmjrsK",
        "outputId": "865f21cd-f692-4294-a50d-47e46cd6525e"
      },
      "source": [
        "import numpy as np\n",
        "\n",
        "#To get the median of 1000 result\n",
        "\n",
        "def randomWalk_Median_Gen_Tester(n):\n",
        "\n",
        "  \"\"\"\n",
        "    Input: \n",
        "    \n",
        "    Integer \n",
        "      Amount of Random Walk Journeys to test\n",
        "\n",
        "    Output:\n",
        "\n",
        "    Integer\n",
        "      Median score of the outcomes of n journeys\n",
        "\n",
        "\n",
        "    Calculate the median score when testing n random walk journeys\n",
        "\n",
        "    Median = middle value in the distribution\n",
        "  \n",
        "  \"\"\"\n",
        "\n",
        "  list = []\n",
        "  for i in range(n):\n",
        "    list.append(randomWalk_For_Sims(10))\n",
        "    x = np.array(list)\n",
        "\n",
        "  distance_Median =  np.median(x)\n",
        "  return distance_Median\n",
        "\n",
        "randomWalk_Median_Gen_Tester(1000)\n",
        "\n"
      ],
      "execution_count": 54,
      "outputs": [
        {
          "output_type": "execute_result",
          "data": {
            "text/plain": [
              "4.0"
            ]
          },
          "metadata": {},
          "execution_count": 54
        }
      ]
    },
    {
      "cell_type": "code",
      "metadata": {
        "id": "fWChklEaVZD3"
      },
      "source": [
        ""
      ],
      "execution_count": null,
      "outputs": []
    },
    {
      "cell_type": "code",
      "metadata": {
        "colab": {
          "base_uri": "https://localhost:8080/",
          "height": 142
        },
        "id": "lgPcrdgoxwde",
        "outputId": "29b50a05-9963-40df-fa00-7485cf3298ac"
      },
      "source": [
        "import numpy as np\n",
        "# First Monte Carlo Model\n",
        "  # Very Ugly \n",
        "    # Can use two inputs to set range of inputs\n",
        "      # Will revise\n",
        "\n",
        "def randomWalk_Mean_Gen_Tester(n):\n",
        "\n",
        "\n",
        "# **** ****  ****  ****  ****  ****  ****  ****  ****  ****  ****  ****\n",
        "# Major arbitrage opp\n",
        "# run a model that stores the scores of this model 1000 times\n",
        "# see which input (number of steps) over the 1000 reps most often has lower\n",
        "  # mean than input - 1\n",
        "\n",
        "# Long the input -1 \n",
        "# Short the input\n",
        "# **** ****  ****  ****  ****  ****  ****  ****  ****  ****  ****  ****\n",
        "\n",
        "\n",
        "\n",
        "  \"\"\"\n",
        "    Input:\n",
        "    Integer\n",
        "      Amount of random walk journeys for each input\n",
        "\n",
        "\n",
        "    Output:\n",
        "    List\n",
        "      Means of each \n",
        "\n",
        "    Aggregate mean distance from home for 12 inputs in Random Walk Game\n",
        "      12 inputs by n journeys\n",
        "  \n",
        "\n",
        "# Quick Revisions to make model more accessible;\n",
        "  Create counter variable for inputs and increment\n",
        "  Create for loop to create lists based on range of inputs to test \n",
        "  \n",
        "\n",
        "\"\"\"\n",
        "\n",
        "\n",
        "  list_for_Ten = []\n",
        "  list_for_Eleven = []\n",
        "  list_for_Twelve = []\n",
        "  list_for_Thirteen = []\n",
        "  list_for_Fourteen = []\n",
        "  list_for_Fifteen = []\n",
        "  list_for_Sixteen = []\n",
        "  list_for_Seventeen = []\n",
        "  list_for_Eighteen = []\n",
        "  list_for_Nineteen = []\n",
        "  list_for_Twenty = []\n",
        "  list_for_Twenty_One = []\n",
        "    \n",
        "\n",
        "\n",
        "# Can a step be removed \n",
        "# Straight to array instead of appending to list\n",
        "# then converting list to array\n",
        "\n",
        "\n",
        "\n",
        "  for i in range(n):\n",
        "    list_for_Ten.append(randomWalk_For_Sims(10))\n",
        "    x_Ten = np.array(list_for_Ten)\n",
        "\n",
        "  distance_Mean_Ten = np.mean(x_Ten)\n",
        "  \n",
        "  for i in range(n):\n",
        "    list_for_Eleven.append(randomWalk_For_Sims(11))\n",
        "    x_Eleven = np.array(list_for_Eleven)\n",
        "\n",
        "  distance_Mean_Eleven = np.mean(x_Eleven)\n",
        "\n",
        "  for i in range(n):\n",
        "    list_for_Twelve.append(randomWalk_For_Sims(12))\n",
        "    x_Twelve = np.array(list_for_Twelve)\n",
        "\n",
        "  distance_Mean_Twelve = np.mean(x_Twelve)\n",
        "\n",
        "  for i in range(n):\n",
        "    list_for_Thirteen.append(randomWalk_For_Sims(13))\n",
        "    x_Thirteen = np.array(list_for_Thirteen)\n",
        "\n",
        "  distance_Mean_Thirteen = np.mean(x_Thirteen)\n",
        "\n",
        "  for i in range(n):\n",
        "    list_for_Fourteen.append(randomWalk_For_Sims(14))\n",
        "    x_Fourteen = np.array(list_for_Fourteen)\n",
        "\n",
        "  distance_Mean_Fourteen = np.mean(x_Fourteen)\n",
        "  \n",
        "  for i in range(n):\n",
        "    list_for_Fifteen.append(randomWalk_For_Sims(15))\n",
        "    x_Fifteen = np.array(list_for_Fifteen)\n",
        "\n",
        "  distance_Mean_Fifteen = np.mean(x_Fifteen)\n",
        "\n",
        "  for i in range(n):\n",
        "    list_for_Sixteen.append(randomWalk_For_Sims(16))\n",
        "    x_Sixteen = np.array(list_for_Sixteen)\n",
        "\n",
        "  distance_Mean_Sixteen = np.mean(x_Sixteen)\n",
        "\n",
        "  for i in range(n):\n",
        "    list_for_Seventeen.append(randomWalk_For_Sims(17))\n",
        "    x_Seventeen = np.array(list_for_Seventeen)\n",
        "\n",
        "  distance_Mean_Seventeen = np.mean(x_Seventeen)  \n",
        "\n",
        "  for i in range(n):\n",
        "    list_for_Eighteen.append(randomWalk_For_Sims(18))\n",
        "    x_Eighteen = np.array(list_for_Eighteen)\n",
        "\n",
        "  distance_Mean_Eighteen = np.mean(x_Eighteen)\n",
        "  \n",
        "  for i in range(n):\n",
        "    list_for_Nineteen.append(randomWalk_For_Sims(19))\n",
        "    x_Nineteen = np.array(list_for_Nineteen)\n",
        "\n",
        "  distance_Mean_Nineteen = np.mean(x_Nineteen)\n",
        "\n",
        "  for i in range(n):\n",
        "    list_for_Twenty.append(randomWalk_For_Sims(20))\n",
        "    x_Twenty = np.array(list_for_Twenty)\n",
        "\n",
        "  distance_Mean_Twenty = np.mean(x_Twenty)\n",
        "\n",
        "  for i in range(n):\n",
        "    list_for_Twenty_One.append(randomWalk_For_Sims(21))\n",
        "    x_Twenty_One = np.array(list_for_Twenty_One)\n",
        "\n",
        "  distance_Mean_Twenty_One = np.mean(x_Twenty_One)  \n",
        "\n",
        "\n",
        "  return (distance_Mean_Ten, distance_Mean_Eleven, distance_Mean_Twelve,\n",
        "          distance_Mean_Thirteen, distance_Mean_Fourteen, distance_Mean_Fifteen,\n",
        "          distance_Mean_Sixteen, distance_Mean_Seventeen,\n",
        "          distance_Mean_Eighteen, distance_Mean_Nineteen,\n",
        "          distance_Mean_Twenty, distance_Mean_Twenty_One) \n",
        "\n",
        "\n",
        "\n",
        "randomWalk_Mean_Gen_Tester(100)\n",
        "\n",
        "\n",
        "# no headers or titles on output so feed into another model\n",
        "\n",
        "# The means are changing every 1000 sims \n",
        "\n",
        "\n",
        "# values corresponding to the amount of random directions chosen in the RandomWalk Game (from 10 - 21)\n",
        "\n",
        "\n",
        "\n"
      ],
      "execution_count": 77,
      "outputs": [
        {
          "output_type": "error",
          "ename": "SyntaxError",
          "evalue": "ignored",
          "traceback": [
            "\u001b[0;36m  File \u001b[0;32m\"<ipython-input-77-ed30560f2a5a>\"\u001b[0;36m, line \u001b[0;32m153\u001b[0m\n\u001b[0;31m    # values corresponding to the amount of random directions chosen in the RandomWalk Game (from 10 - 21)\u001b[0m\n\u001b[0m                                                                                                          \n^\u001b[0m\n\u001b[0;31mSyntaxError\u001b[0m\u001b[0;31m:\u001b[0m EOF while scanning triple-quoted string literal\n"
          ]
        }
      ]
    },
    {
      "cell_type": "code",
      "metadata": {
        "id": "3UNpjInBXzNw"
      },
      "source": [
        ""
      ],
      "execution_count": 77,
      "outputs": []
    },
    {
      "cell_type": "code",
      "metadata": {
        "id": "k0XZPk6gXsbS"
      },
      "source": [
        ""
      ],
      "execution_count": 77,
      "outputs": []
    },
    {
      "cell_type": "code",
      "metadata": {
        "id": "U9S5e73ZXL9z"
      },
      "source": [
        "\n",
        "\n"
      ],
      "execution_count": 63,
      "outputs": []
    },
    {
      "cell_type": "code",
      "metadata": {
        "id": "vQn4Yy3hXMXG"
      },
      "source": [
        ""
      ],
      "execution_count": null,
      "outputs": []
    },
    {
      "cell_type": "code",
      "metadata": {
        "id": "hx7t8y40W5EL"
      },
      "source": [
        ""
      ],
      "execution_count": 58,
      "outputs": []
    },
    {
      "cell_type": "code",
      "metadata": {
        "id": "hrvQmjKIW5zU"
      },
      "source": [
        ""
      ],
      "execution_count": null,
      "outputs": []
    },
    {
      "cell_type": "code",
      "metadata": {
        "id": "PXs26xu0W1r6"
      },
      "source": [
        ""
      ],
      "execution_count": null,
      "outputs": []
    },
    {
      "cell_type": "code",
      "metadata": {
        "id": "fBhZbSPSWm6R"
      },
      "source": [
        ""
      ],
      "execution_count": null,
      "outputs": []
    },
    {
      "cell_type": "code",
      "metadata": {
        "id": "mVRaQQI9Wkia"
      },
      "source": [
        ""
      ],
      "execution_count": null,
      "outputs": []
    },
    {
      "cell_type": "code",
      "metadata": {
        "colab": {
          "base_uri": "https://localhost:8080/"
        },
        "id": "V1dySYct8I1t",
        "outputId": "5ba9e375-2fb0-4686-fe83-4a094d6c1365"
      },
      "source": [
        "def mean_Checker():\n",
        "\n",
        "\"\"\"\n",
        "Questions to watch:\n",
        "  Difference between mean with addition of each step?\n",
        "\n",
        "# will feed the results of this into another model which normalizes returns over 1 - 10 millions sims (idea of how mean should change)\n",
        "\n",
        "# Mite be somewhat dry game (but using same tricks on Market returns, etc. )\n",
        "\n",
        "\n",
        "\n",
        "\n",
        "\"\"\"\n",
        "\n",
        "  list = []\n",
        "  for x in randomWalk_Mean_Gen_Tester((100)):\n",
        "    list.append(x)\n",
        "\n",
        "  mean_dif_Ten_Eleven = list[0] - list[1]\n",
        "  mean_dif_Eleven_Twelve = list[1] - list[2]\n",
        "  mean_dif_Twelve_Thirteen = list[2] - list[3]\n",
        "  mean_dif_Thirteen_Fourteen = list[3] - list[4]\n",
        "  mean_dif_Fourteen_Fifteen = list[4] - list[5]\n",
        "  mean_dif_Fifteen_Sixteen = list[5] - list[6]\n",
        "  mean_dif_Sixteen_Seventeen = list[6] - list[7]\n",
        "  mean_dif_Seventeen_Eighteen = list[7] - list[8]\n",
        "  mean_dif_Eighteen_Nineteen = list[8] - list[9]\n",
        "  mean_dif_Nineteen_Twenty = list[9] - list[10]\n",
        "  mean_dif_Twenty_Twenty_One = list[10] - list[11]\n",
        "\n",
        "\n",
        "\n",
        "\n",
        "  return (mean_dif_Ten_Eleven, mean_dif_Eleven_Twelve, mean_dif_Twelve_Thirteen,\n",
        "          mean_dif_Thirteen_Fourteen, mean_dif_Fourteen_Fifteen,\n",
        "          mean_dif_Fifteen_Sixteen, mean_dif_Sixteen_Seventeen,\n",
        "          mean_dif_Seventeen_Eighteen, mean_dif_Eighteen_Nineteen,\n",
        "          mean_dif_Nineteen_Twenty, mean_dif_Twenty_Twenty_One)\n",
        "\n",
        "\n",
        "mean_Checker()\n",
        "\n"
      ],
      "execution_count": 79,
      "outputs": [
        {
          "output_type": "execute_result",
          "data": {
            "text/plain": [
              "(-0.09999999999999964,\n",
              " -0.2799999999999998,\n",
              " 0.2799999999999998,\n",
              " 0.020000000000000018,\n",
              " -0.3799999999999999,\n",
              " -0.4400000000000004,\n",
              " -0.09999999999999964,\n",
              " 0.17999999999999972,\n",
              " -0.33999999999999986,\n",
              " 0.13999999999999968,\n",
              " -0.21999999999999975)"
            ]
          },
          "metadata": {},
          "execution_count": 79
        }
      ]
    },
    {
      "cell_type": "code",
      "metadata": {
        "colab": {
          "base_uri": "https://localhost:8080/"
        },
        "id": "9lGS_GEMxxSQ",
        "outputId": "8b5ae127-e72a-41f0-92f3-ad74d6c84ffe"
      },
      "source": [
        "\n",
        "import numpy as np\n",
        "\n",
        "\n",
        "\n",
        "def randomWalk_Max_Gen_Tester(n):\n",
        "\n",
        "  \"\"\"\n",
        "    Input:\n",
        "    Integer\n",
        "      Amount of Random Walk Journeys to test\n",
        "\n",
        "    Output:\n",
        "    Integer\n",
        "      Maximum distance from home in n journeys\n",
        "\n",
        "  \"\"\"\n",
        "  \n",
        "  list = []\n",
        "  for i in range(n):\n",
        "    list.append(randomWalk_For_Sims(10))\n",
        "    x = np.array(list)\n",
        "\n",
        "  distance_Max = np.max(x)\n",
        "  return distance_Max\n",
        "\n",
        "randomWalk_Max_Gen_Tester(10)\n"
      ],
      "execution_count": 89,
      "outputs": [
        {
          "output_type": "execute_result",
          "data": {
            "text/plain": [
              "10"
            ]
          },
          "metadata": {},
          "execution_count": 89
        }
      ]
    },
    {
      "cell_type": "code",
      "metadata": {
        "colab": {
          "base_uri": "https://localhost:8080/"
        },
        "id": "0iazK0QWxHkj",
        "outputId": "f8be7361-a67b-4498-a844-0a422d163fc8"
      },
      "source": [
        "def randomWalk_Mean_Many_Tester(n):\n",
        "  \"\"\"\n",
        "    Mean of means for 12 inputs in Random Walk Journey Game\n",
        "  \"\"\"\n",
        "\n",
        "  list = []\n",
        "  for i in range(n):\n",
        "    list.append(randomWalk_Mean_Gen_Tester(100))\n",
        "  ele = np.array(list)\n",
        "  #for z in ele:\n",
        "\n",
        "# wrong cause changed the model that feeds in here \n",
        "# will change back but \n",
        "\n",
        "# this framework for analytics \n",
        "\n",
        "\n",
        "  mean_Of_Means = np.mean(ele)\n",
        "\n",
        "  return mean_Of_Means\n",
        "\n",
        "\n",
        "randomWalk_Mean_Many_Tester(100)"
      ],
      "execution_count": 91,
      "outputs": [
        {
          "output_type": "execute_result",
          "data": {
            "text/plain": [
              "4.376366666666666"
            ]
          },
          "metadata": {},
          "execution_count": 91
        }
      ]
    },
    {
      "cell_type": "code",
      "metadata": {
        "id": "HJogiefol54F"
      },
      "source": [
        "#    return random.shuffle() # How does random.shuffle work\n",
        "\n",
        "# how does yield work"
      ],
      "execution_count": null,
      "outputs": []
    },
    {
      "cell_type": "code",
      "metadata": {
        "colab": {
          "base_uri": "https://localhost:8080/"
        },
        "id": "5jwYpfIEl2wG",
        "outputId": "42fe677a-33c0-4736-c283-7863c421e279"
      },
      "source": [
        "#Angelo Mermigis - Python and Math Bum\n",
        "# 10/01/21\n",
        "\n",
        "# Option with Random number conversion to Direction \n",
        "  # Each Direction takes 1/4 of 1 (or random.range (1,2,3,4 | one choice per number))\n",
        "\n",
        "\n",
        "import random\n",
        "\n",
        "def randomWalk(n): #n = blocks to walk\n",
        "  x = 0  # Each West subtracts 1 # Each East adds 1 \n",
        "  y = 0  # Each South subtracts 1 # Each North adds 1 \n",
        "  choices = 'North','East', 'South', \"West\"\n",
        "\n",
        "  list_Num = []\n",
        "  list_Directions = []\n",
        "\n",
        "  for i in range(n):\n",
        "    list_Num.append(round(random.randrange(0,4)))\n",
        "  for l in list_Num:\n",
        "    if l == 0:\n",
        "      y += 1\n",
        "    if l == 1:\n",
        "      x += 1\n",
        "    if l  == 2:\n",
        "      y -= 1 \n",
        "    if l == 3:\n",
        "      x -= 1\n",
        "\n",
        "  \n",
        "  distance_From_Home = abs(x) + abs(y) \n",
        "  # Option for Random \n",
        "\n",
        "  # print(list, [x, y], 'Distance from home: %r' %distance_From_Home, \"\\n\")\n",
        "  \n",
        "  #\n",
        "\n",
        "#randomWalk(5)\n",
        "\n",
        "\n",
        "\n",
        "\n",
        "def randomWalk_Tester(n):\n",
        "  list = []\n",
        "  for i in range(n):\n",
        "    list.append(randomWalk(5))\n",
        "  print(list)\n",
        "  \n",
        "\n",
        "\n",
        "\n",
        "\n",
        "\n",
        "\n",
        "randomWalk_Tester(3)\n"
      ],
      "execution_count": null,
      "outputs": [
        {
          "output_type": "stream",
          "name": "stdout",
          "text": [
            "[None, None, None]\n"
          ]
        }
      ]
    },
    {
      "cell_type": "code",
      "metadata": {
        "colab": {
          "base_uri": "https://localhost:8080/"
        },
        "id": "8HsCFu-T1hGQ",
        "outputId": "667c2131-28c6-4d84-e9fd-a0c63216c8f2"
      },
      "source": [
        ""
      ],
      "execution_count": null,
      "outputs": [
        {
          "output_type": "stream",
          "name": "stdout",
          "text": [
            "0\n",
            "4\n",
            "0\n",
            "4\n",
            "0\n",
            "4\n",
            "0\n",
            "4\n",
            "0\n",
            "4\n"
          ]
        }
      ]
    },
    {
      "cell_type": "code",
      "metadata": {
        "colab": {
          "base_uri": "https://localhost:8080/"
        },
        "id": "-qwOv5bw1hQ4",
        "outputId": "bf404e35-d03d-4f07-be37-3f1be803a004"
      },
      "source": [
        "# Angelo Mermigis\n",
        "# Random Ranger Tester - 4 directions outlier of 8% +- of expected return (1/4 )\n",
        "\n",
        "import random\n",
        "\n",
        "def random_Rand_Range_Tester(x):\n",
        "  list = []\n",
        "  Zeros = 0\n",
        "  Ones = 0\n",
        "  Twos = 0\n",
        "  Threes = 0\n",
        "\n",
        "\n",
        "  greater_than_027 = 0\n",
        "  less_than_023 = 0\n",
        "  outlier_Skew = greater_than_027 - less_than_023\n",
        "\n",
        "  for i in range(x):\n",
        "    list.append(random.randrange(0,4))\n",
        "  for l in list:\n",
        "    if l == 0:\n",
        "      Zeros += 1\n",
        "    if l == 1:\n",
        "      Ones += 1\n",
        "    if l == 2:\n",
        "      Twos += 1\n",
        "    if l == 3:\n",
        "      Threes += 1\n",
        " \n",
        "  \n",
        "  if Zeros > 2700:\n",
        "    greater_than_027 += 1\n",
        "  if Ones > 2700:\n",
        "    greater_than_027 += 1\n",
        "  if Twos > 2700:\n",
        "    greater_than_027 += 1\n",
        "  if Threes > 2700:\n",
        "    greater_than_027 += 1\n",
        "\n",
        "\n",
        "\n",
        "  if Zeros < 2300:\n",
        "    less_than_023 += 1\n",
        "  if Ones < 2300:\n",
        "    less_than_023 += 1\n",
        "  if Twos < 2300:\n",
        "    less_than_023 += 1\n",
        "  if Threes < 2300:\n",
        "    less_than_023 += 1\n",
        "\n",
        "\n",
        "\n",
        "\n",
        "  return greater_than_027, less_than_023\n",
        "\n",
        "\n",
        "#  print(Zeros, Ones, Twos, Threes)\n",
        "\n",
        "  \n",
        "\n",
        "random_Rand_Range_Tester(10000)"
      ],
      "execution_count": null,
      "outputs": [
        {
          "output_type": "execute_result",
          "data": {
            "text/plain": [
              "(0, 0)"
            ]
          },
          "metadata": {},
          "execution_count": 71
        }
      ]
    },
    {
      "cell_type": "code",
      "metadata": {
        "id": "foeno8PLCxPg",
        "colab": {
          "base_uri": "https://localhost:8080/",
          "height": 356
        },
        "outputId": "aec8696f-3196-4fa2-a7c2-ff0b3cb7e4d3"
      },
      "source": [
        "def bulk_Rand_Range_Tester(x):\n",
        "  list = []\n",
        "  less_than_23 = 0\n",
        "  greater_than_27 = 0\n",
        "  for i in range(x):\n",
        "    #list.append(\n",
        "    (random_Rand_Range_Tester(15))\n",
        "  #print(list)\n",
        " # for s in list:\n",
        "  \n",
        "\n",
        "    \n",
        "    \n",
        "  #  if s < 2300:\n",
        "   #   less_than_23 += 1 \n",
        "   # if s > 2700:\n",
        "    #  greater_than_27 += 1\n",
        "\n",
        "\n",
        " # print(\"Greater than 27: \", greater_than_27)\n",
        " # print('Less than 23: ', less_than_23)\n",
        "\n",
        "\n",
        "\n",
        "bulk_Rand_Range_Tester(5)\n",
        "\n",
        "\n"
      ],
      "execution_count": null,
      "outputs": [
        {
          "output_type": "error",
          "ename": "NameError",
          "evalue": "ignored",
          "traceback": [
            "\u001b[0;31m---------------------------------------------------------------------------\u001b[0m",
            "\u001b[0;31mNameError\u001b[0m                                 Traceback (most recent call last)",
            "\u001b[0;32m<ipython-input-3-f59b3589a6ec>\u001b[0m in \u001b[0;36m<module>\u001b[0;34m()\u001b[0m\n\u001b[1;32m     23\u001b[0m \u001b[0;34m\u001b[0m\u001b[0m\n\u001b[1;32m     24\u001b[0m \u001b[0;34m\u001b[0m\u001b[0m\n\u001b[0;32m---> 25\u001b[0;31m \u001b[0mbulk_Rand_Range_Tester\u001b[0m\u001b[0;34m(\u001b[0m\u001b[0;36m5\u001b[0m\u001b[0;34m)\u001b[0m\u001b[0;34m\u001b[0m\u001b[0;34m\u001b[0m\u001b[0m\n\u001b[0m\u001b[1;32m     26\u001b[0m \u001b[0;34m\u001b[0m\u001b[0m\n\u001b[1;32m     27\u001b[0m \u001b[0;34m\u001b[0m\u001b[0m\n",
            "\u001b[0;32m<ipython-input-3-f59b3589a6ec>\u001b[0m in \u001b[0;36mbulk_Rand_Range_Tester\u001b[0;34m(x)\u001b[0m\n\u001b[1;32m      5\u001b[0m   \u001b[0;32mfor\u001b[0m \u001b[0mi\u001b[0m \u001b[0;32min\u001b[0m \u001b[0mrange\u001b[0m\u001b[0;34m(\u001b[0m\u001b[0mx\u001b[0m\u001b[0;34m)\u001b[0m\u001b[0;34m:\u001b[0m\u001b[0;34m\u001b[0m\u001b[0;34m\u001b[0m\u001b[0m\n\u001b[1;32m      6\u001b[0m     \u001b[0;31m#list.append(\u001b[0m\u001b[0;34m\u001b[0m\u001b[0;34m\u001b[0m\u001b[0;34m\u001b[0m\u001b[0m\n\u001b[0;32m----> 7\u001b[0;31m     \u001b[0;34m(\u001b[0m\u001b[0mrandom_Rand_Range_Tester\u001b[0m\u001b[0;34m(\u001b[0m\u001b[0;36m15\u001b[0m\u001b[0;34m)\u001b[0m\u001b[0;34m)\u001b[0m\u001b[0;34m\u001b[0m\u001b[0;34m\u001b[0m\u001b[0m\n\u001b[0m\u001b[1;32m      8\u001b[0m   \u001b[0;31m#print(list)\u001b[0m\u001b[0;34m\u001b[0m\u001b[0;34m\u001b[0m\u001b[0;34m\u001b[0m\u001b[0m\n\u001b[1;32m      9\u001b[0m  \u001b[0;31m# for s in list:\u001b[0m\u001b[0;34m\u001b[0m\u001b[0;34m\u001b[0m\u001b[0;34m\u001b[0m\u001b[0m\n",
            "\u001b[0;31mNameError\u001b[0m: name 'random_Rand_Range_Tester' is not defined"
          ]
        }
      ]
    },
    {
      "cell_type": "code",
      "metadata": {
        "id": "s2jx1ntqh_GB"
      },
      "source": [
        ""
      ],
      "execution_count": null,
      "outputs": []
    },
    {
      "cell_type": "code",
      "metadata": {
        "id": "Zr7yXVTkfCcf"
      },
      "source": [
        ""
      ],
      "execution_count": null,
      "outputs": []
    },
    {
      "cell_type": "code",
      "metadata": {
        "id": "-w3uTZny5vuS"
      },
      "source": [
        ""
      ],
      "execution_count": null,
      "outputs": []
    },
    {
      "cell_type": "code",
      "metadata": {
        "id": "8YUSAleJ1hTq"
      },
      "source": [
        ""
      ],
      "execution_count": null,
      "outputs": []
    },
    {
      "cell_type": "code",
      "metadata": {
        "id": "sNcgNjKQIvzB"
      },
      "source": [
        ""
      ],
      "execution_count": null,
      "outputs": []
    }
  ]
}